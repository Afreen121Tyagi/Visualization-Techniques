{
 "cells": [
  {
   "cell_type": "markdown",
   "id": "459c67a7",
   "metadata": {},
   "source": [
    "# import required library"
   ]
  },
  {
   "cell_type": "code",
   "execution_count": 94,
   "id": "d6019613",
   "metadata": {},
   "outputs": [],
   "source": [
    "import numpy as np\n",
    "import pandas as pd\n",
    "import matplotlib.pyplot as plt\n",
    "import seaborn as sns"
   ]
  },
  {
   "cell_type": "code",
   "execution_count": 95,
   "id": "1e419478",
   "metadata": {},
   "outputs": [],
   "source": [
    "# import dataset\n",
    "df = pd.read_csv('C:\\\\Users\\\\ASUS\\\\OneDrive\\\\Desktop\\\\Excel\\\\titanic.csv')"
   ]
  },
  {
   "cell_type": "code",
   "execution_count": 96,
   "id": "66481b6c",
   "metadata": {},
   "outputs": [
    {
     "data": {
      "text/html": [
       "<div>\n",
       "<style scoped>\n",
       "    .dataframe tbody tr th:only-of-type {\n",
       "        vertical-align: middle;\n",
       "    }\n",
       "\n",
       "    .dataframe tbody tr th {\n",
       "        vertical-align: top;\n",
       "    }\n",
       "\n",
       "    .dataframe thead th {\n",
       "        text-align: right;\n",
       "    }\n",
       "</style>\n",
       "<table border=\"1\" class=\"dataframe\">\n",
       "  <thead>\n",
       "    <tr style=\"text-align: right;\">\n",
       "      <th></th>\n",
       "      <th>Unnamed: 0</th>\n",
       "      <th>Survived</th>\n",
       "      <th>Pclass</th>\n",
       "      <th>Name</th>\n",
       "      <th>Sex</th>\n",
       "      <th>Age</th>\n",
       "      <th>SibSp</th>\n",
       "      <th>Parch</th>\n",
       "      <th>Ticket</th>\n",
       "      <th>Fare</th>\n",
       "      <th>Cabin</th>\n",
       "      <th>Embarked</th>\n",
       "    </tr>\n",
       "  </thead>\n",
       "  <tbody>\n",
       "    <tr>\n",
       "      <th>0</th>\n",
       "      <td>NaN</td>\n",
       "      <td>0</td>\n",
       "      <td>3</td>\n",
       "      <td>Kelly, Mr. James</td>\n",
       "      <td>male</td>\n",
       "      <td>34.5</td>\n",
       "      <td>0</td>\n",
       "      <td>0</td>\n",
       "      <td>330911</td>\n",
       "      <td>7.8292</td>\n",
       "      <td>NaN</td>\n",
       "      <td>Q</td>\n",
       "    </tr>\n",
       "    <tr>\n",
       "      <th>1</th>\n",
       "      <td>893.0</td>\n",
       "      <td>1</td>\n",
       "      <td>3</td>\n",
       "      <td>Wilkes, Mrs. James (Ellen Needs)</td>\n",
       "      <td>female</td>\n",
       "      <td>47.0</td>\n",
       "      <td>1</td>\n",
       "      <td>0</td>\n",
       "      <td>363272</td>\n",
       "      <td>7.0000</td>\n",
       "      <td>NaN</td>\n",
       "      <td>S</td>\n",
       "    </tr>\n",
       "    <tr>\n",
       "      <th>2</th>\n",
       "      <td>894.0</td>\n",
       "      <td>0</td>\n",
       "      <td>2</td>\n",
       "      <td>Myles, Mr. Thomas Francis</td>\n",
       "      <td>male</td>\n",
       "      <td>62.0</td>\n",
       "      <td>0</td>\n",
       "      <td>0</td>\n",
       "      <td>240276</td>\n",
       "      <td>9.6875</td>\n",
       "      <td>NaN</td>\n",
       "      <td>Q</td>\n",
       "    </tr>\n",
       "    <tr>\n",
       "      <th>3</th>\n",
       "      <td>895.0</td>\n",
       "      <td>0</td>\n",
       "      <td>3</td>\n",
       "      <td>Wirz, Mr. Albert</td>\n",
       "      <td>male</td>\n",
       "      <td>27.0</td>\n",
       "      <td>0</td>\n",
       "      <td>0</td>\n",
       "      <td>315154</td>\n",
       "      <td>8.6625</td>\n",
       "      <td>NaN</td>\n",
       "      <td>S</td>\n",
       "    </tr>\n",
       "    <tr>\n",
       "      <th>4</th>\n",
       "      <td>896.0</td>\n",
       "      <td>1</td>\n",
       "      <td>3</td>\n",
       "      <td>Hirvonen, Mrs. Alexander (Helga E Lindqvist)</td>\n",
       "      <td>female</td>\n",
       "      <td>22.0</td>\n",
       "      <td>1</td>\n",
       "      <td>1</td>\n",
       "      <td>3101298</td>\n",
       "      <td>12.2875</td>\n",
       "      <td>NaN</td>\n",
       "      <td>S</td>\n",
       "    </tr>\n",
       "  </tbody>\n",
       "</table>\n",
       "</div>"
      ],
      "text/plain": [
       "   Unnamed: 0  Survived  Pclass                                          Name  \\\n",
       "0         NaN         0       3                              Kelly, Mr. James   \n",
       "1       893.0         1       3              Wilkes, Mrs. James (Ellen Needs)   \n",
       "2       894.0         0       2                     Myles, Mr. Thomas Francis   \n",
       "3       895.0         0       3                              Wirz, Mr. Albert   \n",
       "4       896.0         1       3  Hirvonen, Mrs. Alexander (Helga E Lindqvist)   \n",
       "\n",
       "      Sex   Age  SibSp  Parch   Ticket     Fare Cabin Embarked  \n",
       "0    male  34.5      0      0   330911   7.8292   NaN        Q  \n",
       "1  female  47.0      1      0   363272   7.0000   NaN        S  \n",
       "2    male  62.0      0      0   240276   9.6875   NaN        Q  \n",
       "3    male  27.0      0      0   315154   8.6625   NaN        S  \n",
       "4  female  22.0      1      1  3101298  12.2875   NaN        S  "
      ]
     },
     "execution_count": 96,
     "metadata": {},
     "output_type": "execute_result"
    }
   ],
   "source": [
    "df.head()"
   ]
  },
  {
   "cell_type": "code",
   "execution_count": 97,
   "id": "f57e8b47",
   "metadata": {},
   "outputs": [
    {
     "name": "stdout",
     "output_type": "stream",
     "text": [
      "<class 'pandas.core.frame.DataFrame'>\n",
      "RangeIndex: 418 entries, 0 to 417\n",
      "Data columns (total 12 columns):\n",
      " #   Column      Non-Null Count  Dtype  \n",
      "---  ------      --------------  -----  \n",
      " 0   Unnamed: 0  417 non-null    float64\n",
      " 1   Survived    418 non-null    int64  \n",
      " 2   Pclass      418 non-null    int64  \n",
      " 3   Name        418 non-null    object \n",
      " 4   Sex         418 non-null    object \n",
      " 5   Age         332 non-null    float64\n",
      " 6   SibSp       418 non-null    int64  \n",
      " 7   Parch       418 non-null    int64  \n",
      " 8   Ticket      418 non-null    object \n",
      " 9   Fare        417 non-null    float64\n",
      " 10  Cabin       91 non-null     object \n",
      " 11  Embarked    418 non-null    object \n",
      "dtypes: float64(3), int64(4), object(5)\n",
      "memory usage: 39.3+ KB\n"
     ]
    }
   ],
   "source": [
    "df.info()"
   ]
  },
  {
   "cell_type": "code",
   "execution_count": 98,
   "id": "f8fa901a",
   "metadata": {},
   "outputs": [
    {
     "data": {
      "text/plain": [
       "Unnamed: 0      1\n",
       "Survived        0\n",
       "Pclass          0\n",
       "Name            0\n",
       "Sex             0\n",
       "Age            86\n",
       "SibSp           0\n",
       "Parch           0\n",
       "Ticket          0\n",
       "Fare            1\n",
       "Cabin         327\n",
       "Embarked        0\n",
       "dtype: int64"
      ]
     },
     "execution_count": 98,
     "metadata": {},
     "output_type": "execute_result"
    }
   ],
   "source": [
    "df.isnull().sum()"
   ]
  },
  {
   "cell_type": "code",
   "execution_count": 99,
   "id": "99980d14",
   "metadata": {},
   "outputs": [],
   "source": [
    "df=df.drop('Unnamed: 0',axis=1)"
   ]
  },
  {
   "cell_type": "markdown",
   "id": "b1521cdf",
   "metadata": {},
   "source": [
    "# A) Working with Single Variables/data  (Univariate Analysis)\n",
    "\n",
    "## 1) Categorical data"
   ]
  },
  {
   "cell_type": "code",
   "execution_count": 100,
   "id": "d8d213b9",
   "metadata": {},
   "outputs": [
    {
     "data": {
      "text/plain": [
       "3    218\n",
       "1    107\n",
       "2     93\n",
       "Name: Pclass, dtype: int64"
      ]
     },
     "execution_count": 100,
     "metadata": {},
     "output_type": "execute_result"
    }
   ],
   "source": [
    "df['Pclass'].value_counts()"
   ]
  },
  {
   "cell_type": "markdown",
   "id": "ce712f58",
   "metadata": {},
   "source": [
    "### note--->for categorical data  bar plot and pie plot are used"
   ]
  },
  {
   "cell_type": "markdown",
   "id": "46f68bcf",
   "metadata": {},
   "source": [
    "### a) Bar Chart"
   ]
  },
  {
   "cell_type": "code",
   "execution_count": 101,
   "id": "5c9b09c2",
   "metadata": {},
   "outputs": [
    {
     "data": {
      "image/png": "[encoded data removed]",
      "text/plain": [
       "<Figure size 432x288 with 1 Axes>"
      ]
     },
     "metadata": {
      "needs_background": "light"
     },
     "output_type": "display_data"
    }
   ],
   "source": [
    "df['Pclass'].value_counts().plot(kind='bar')\n",
    "plt.show()"
   ]
  },
  {
   "cell_type": "markdown",
   "id": "fef56e69",
   "metadata": {},
   "source": [
    "### b) Pie Chart"
   ]
  },
  {
   "cell_type": "code",
   "execution_count": 102,
   "id": "89223ed2",
   "metadata": {},
   "outputs": [
    {
     "data": {
      "image/png": "[encoded data removed]",
      "text/plain": [
       "<Figure size 432x288 with 1 Axes>"
      ]
     },
     "metadata": {},
     "output_type": "display_data"
    }
   ],
   "source": [
    "df['Pclass'].value_counts().plot(kind='pie',autopct='%0.2f')\n",
    "plt.show()"
   ]
  },
  {
   "cell_type": "code",
   "execution_count": 103,
   "id": "0654ab75",
   "metadata": {},
   "outputs": [],
   "source": [
    "Pclass = df['Pclass'].value_counts()"
   ]
  },
  {
   "cell_type": "code",
   "execution_count": 104,
   "id": "cb0bfca8",
   "metadata": {},
   "outputs": [
    {
     "data": {
      "text/plain": [
       "3    52.153110\n",
       "1    25.598086\n",
       "2    22.248804\n",
       "Name: Pclass, dtype: float64"
      ]
     },
     "execution_count": 104,
     "metadata": {},
     "output_type": "execute_result"
    }
   ],
   "source": [
    "# calculate %\n",
    "(Pclass/Pclass.sum())*100"
   ]
  },
  {
   "cell_type": "code",
   "execution_count": 105,
   "id": "b6f72746",
   "metadata": {},
   "outputs": [],
   "source": [
    "a = ((Pclass/Pclass.sum())*100).values"
   ]
  },
  {
   "cell_type": "code",
   "execution_count": 106,
   "id": "8b13aff4",
   "metadata": {},
   "outputs": [
    {
     "data": {
      "text/plain": [
       "array([52.15311005, 25.59808612, 22.24880383])"
      ]
     },
     "execution_count": 106,
     "metadata": {},
     "output_type": "execute_result"
    }
   ],
   "source": [
    "a"
   ]
  },
  {
   "cell_type": "code",
   "execution_count": 107,
   "id": "72317802",
   "metadata": {},
   "outputs": [],
   "source": [
    "# calculate Cumulative Frequency\n",
    "cf=[]\n",
    "c=0\n",
    "for i in a:\n",
    "    c+=i\n",
    "    cf.append(c)"
   ]
  },
  {
   "cell_type": "code",
   "execution_count": 108,
   "id": "5a923339",
   "metadata": {},
   "outputs": [
    {
     "data": {
      "text/plain": [
       "[52.15311004784689, 77.7511961722488, 100.0]"
      ]
     },
     "execution_count": 108,
     "metadata": {},
     "output_type": "execute_result"
    }
   ],
   "source": [
    "cf"
   ]
  },
  {
   "cell_type": "code",
   "execution_count": 109,
   "id": "8548dab8",
   "metadata": {},
   "outputs": [
    {
     "data": {
      "image/png": "[encoded data removed]",
      "text/plain": [
       "<Figure size 432x288 with 1 Axes>"
      ]
     },
     "metadata": {
      "needs_background": "light"
     },
     "output_type": "display_data"
    }
   ],
   "source": [
    "plt.plot(cf,marker='D')\n",
    "plt.show()"
   ]
  },
  {
   "cell_type": "markdown",
   "id": "db588f7f",
   "metadata": {},
   "source": [
    "## 2) Numerical Data"
   ]
  },
  {
   "cell_type": "markdown",
   "id": "a16d8630",
   "metadata": {},
   "source": [
    "### a) Histograms"
   ]
  },
  {
   "cell_type": "code",
   "execution_count": 110,
   "id": "2ad8399b",
   "metadata": {},
   "outputs": [],
   "source": [
    "data=df['Age'].values"
   ]
  },
  {
   "cell_type": "code",
   "execution_count": 111,
   "id": "b455d892",
   "metadata": {},
   "outputs": [
    {
     "data": {
      "image/png": "[encoded data removed]",
      "text/plain": [
       "<Figure size 432x288 with 1 Axes>"
      ]
     },
     "metadata": {
      "needs_background": "light"
     },
     "output_type": "display_data"
    }
   ],
   "source": [
    "plt.hist(data)\n",
    "plt.show()"
   ]
  },
  {
   "cell_type": "markdown",
   "id": "37341d22",
   "metadata": {},
   "source": [
    "### b) Box Plot"
   ]
  },
  {
   "cell_type": "code",
   "execution_count": 125,
   "id": "2d8ff50d",
   "metadata": {},
   "outputs": [
    {
     "name": "stderr",
     "output_type": "stream",
     "text": [
      "C:\\ProgramData\\Anaconda3\\lib\\site-packages\\seaborn\\_decorators.py:36: FutureWarning: Pass the following variable as a keyword arg: x. From version 0.12, the only valid positional argument will be `data`, and passing other arguments without an explicit keyword will result in an error or misinterpretation.\n",
      "  warnings.warn(\n"
     ]
    },
    {
     "data": {
      "text/plain": [
       "<AxesSubplot:xlabel='Age'>"
      ]
     },
     "execution_count": 125,
     "metadata": {},
     "output_type": "execute_result"
    },
    {
     "data": {
      "image/png": "[encoded data removed]",
      "text/plain": [
       "<Figure size 432x288 with 1 Axes>"
      ]
     },
     "metadata": {
      "needs_background": "light"
     },
     "output_type": "display_data"
    }
   ],
   "source": [
    "sns.boxplot('Age', data=df)"
   ]
  },
  {
   "cell_type": "code",
   "execution_count": 122,
   "id": "fcd72ba9",
   "metadata": {},
   "outputs": [],
   "source": [
    "# remove nan values \n",
    "df.dropna(subset=['Age'],inplace=True)"
   ]
  },
  {
   "cell_type": "code",
   "execution_count": 123,
   "id": "4fac4d3b",
   "metadata": {},
   "outputs": [
    {
     "data": {
      "text/plain": [
       "Survived      0\n",
       "Pclass        0\n",
       "Name          0\n",
       "Sex           0\n",
       "Age           0\n",
       "SibSp         0\n",
       "Parch         0\n",
       "Ticket        0\n",
       "Fare          1\n",
       "Cabin       245\n",
       "Embarked      0\n",
       "dtype: int64"
      ]
     },
     "execution_count": 123,
     "metadata": {},
     "output_type": "execute_result"
    }
   ],
   "source": [
    "df.isnull().sum()"
   ]
  },
  {
   "cell_type": "code",
   "execution_count": 124,
   "id": "0828646e",
   "metadata": {},
   "outputs": [
    {
     "data": {
      "text/plain": [
       "27.0"
      ]
     },
     "execution_count": 124,
     "metadata": {},
     "output_type": "execute_result"
    }
   ],
   "source": [
    "a=df['Age'].values\n",
    "np.median(a)"
   ]
  },
  {
   "cell_type": "markdown",
   "id": "7c078ce4",
   "metadata": {},
   "source": [
    "### c) Kdeplot"
   ]
  },
  {
   "cell_type": "code",
   "execution_count": 127,
   "id": "fad6827a",
   "metadata": {},
   "outputs": [
    {
     "data": {
      "image/png": "[encoded data removed]",
      "text/plain": [
       "<Figure size 432x288 with 1 Axes>"
      ]
     },
     "metadata": {
      "needs_background": "light"
     },
     "output_type": "display_data"
    }
   ],
   "source": [
    "sns.kdeplot(df['Age'])\n",
    "plt.show()"
   ]
  },
  {
   "cell_type": "markdown",
   "id": "1553ab64",
   "metadata": {},
   "source": [
    "# B) Working with Two Variables/ data (Bivariate Analysis)"
   ]
  },
  {
   "cell_type": "markdown",
   "id": "f94f7bd0",
   "metadata": {},
   "source": [
    "## 1) Categorical Data Vs Numerical Data"
   ]
  },
  {
   "cell_type": "markdown",
   "id": "421448d8",
   "metadata": {},
   "source": [
    "### a) Box Plot"
   ]
  },
  {
   "cell_type": "code",
   "execution_count": 131,
   "id": "db6b45c3",
   "metadata": {},
   "outputs": [
    {
     "data": {
      "image/png": "[encoded data removed]",
      "text/plain": [
       "<Figure size 432x288 with 1 Axes>"
      ]
     },
     "metadata": {
      "needs_background": "light"
     },
     "output_type": "display_data"
    }
   ],
   "source": [
    "sns.boxplot(x='Pclass',y='Age',data=df)\n",
    "plt.show()"
   ]
  },
  {
   "cell_type": "markdown",
   "id": "47ec3c72",
   "metadata": {},
   "source": [
    "### b) Bar plot"
   ]
  },
  {
   "cell_type": "code",
   "execution_count": 132,
   "id": "c628f80b",
   "metadata": {},
   "outputs": [
    {
     "data": {
      "image/png": "[encoded data removed]",
      "text/plain": [
       "<Figure size 432x288 with 1 Axes>"
      ]
     },
     "metadata": {
      "needs_background": "light"
     },
     "output_type": "display_data"
    }
   ],
   "source": [
    "sns.barplot(x='Pclass',y='Age',data=df)\n",
    "plt.show()"
   ]
  },
  {
   "cell_type": "markdown",
   "id": "8aeb3e41",
   "metadata": {},
   "source": [
    "## 2) Numerical Data Vs Numerical Data"
   ]
  },
  {
   "cell_type": "markdown",
   "id": "a2c4a844",
   "metadata": {},
   "source": [
    "### a) Scatter plot"
   ]
  },
  {
   "cell_type": "code",
   "execution_count": 142,
   "id": "b403b910",
   "metadata": {},
   "outputs": [
    {
     "data": {
      "image/png": "[encoded data removed]",
      "text/plain": [
       "<Figure size 432x288 with 1 Axes>"
      ]
     },
     "metadata": {
      "needs_background": "light"
     },
     "output_type": "display_data"
    }
   ],
   "source": [
    "s=df['Age'].values\n",
    "d=df['Fare'].values\n",
    "plt.scatter(s,d)\n",
    "plt.show()\n",
    "# here there is no relation between fare and age"
   ]
  },
  {
   "cell_type": "markdown",
   "id": "50873476",
   "metadata": {},
   "source": [
    "## 3) Categorical Data Vs Categorical Data"
   ]
  },
  {
   "cell_type": "markdown",
   "id": "ebb161a8",
   "metadata": {},
   "source": [
    "### a) side by side bar chart"
   ]
  },
  {
   "cell_type": "code",
   "execution_count": 148,
   "id": "438db622",
   "metadata": {},
   "outputs": [],
   "source": [
    "Q=pd.crosstab(df['Pclass'],df['Sex'])"
   ]
  },
  {
   "cell_type": "code",
   "execution_count": 149,
   "id": "ce2d4bdd",
   "metadata": {},
   "outputs": [
    {
     "data": {
      "image/png": "[encoded data removed]",
      "text/plain": [
       "<Figure size 432x288 with 1 Axes>"
      ]
     },
     "metadata": {
      "needs_background": "light"
     },
     "output_type": "display_data"
    }
   ],
   "source": [
    "Q.plot(kind='bar')\n",
    "plt.show()"
   ]
  },
  {
   "cell_type": "markdown",
   "id": "f6273f1b",
   "metadata": {},
   "source": [
    "### b) Heatmaps"
   ]
  },
  {
   "cell_type": "code",
   "execution_count": 151,
   "id": "7c13cf30",
   "metadata": {},
   "outputs": [
    {
     "data": {
      "image/png": "[encoded data removed]",
      "text/plain": [
       "<Figure size 432x288 with 2 Axes>"
      ]
     },
     "metadata": {
      "needs_background": "light"
     },
     "output_type": "display_data"
    }
   ],
   "source": [
    "sns.heatmap(Q)\n",
    "plt.show()"
   ]
  }
 ],
 "metadata": {
  "kernelspec": {
   "display_name": "Python 3 (ipykernel)",
   "language": "python",
   "name": "python3"
  },
  "language_info": {
   "codemirror_mode": {
    "name": "ipython",
    "version": 3
   },
   "file_extension": ".py",
   "mimetype": "text/x-python",
   "name": "python",
   "nbconvert_exporter": "python",
   "pygments_lexer": "ipython3",
   "version": "3.9.12"
  }
 },
 "nbformat": 4,
 "nbformat_minor": 5
}
